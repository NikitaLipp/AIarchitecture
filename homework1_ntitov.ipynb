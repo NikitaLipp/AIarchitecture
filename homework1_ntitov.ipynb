{
  "nbformat": 4,
  "nbformat_minor": 0,
  "metadata": {
    "colab": {
      "provenance": []
    },
    "kernelspec": {
      "name": "python3",
      "display_name": "Python 3"
    },
    "language_info": {
      "name": "python"
    }
  },
  "cells": [
    {
      "cell_type": "code",
      "source": [
        "A = [[6, -8, 3]]\n",
        "\n",
        "B = [[1],\n",
        "     [1],\n",
        "     [4]]\n",
        "\n",
        "result = [[0]]\n",
        "\n",
        "for u in range(len(A)):\n",
        " for o in range(len(B[0])):\n",
        "  for p in range(len(B)):\n",
        "   result[u][o] += A[u][p] * B[p][o]\n",
        "for d in result:\n",
        " print(d)"
      ],
      "metadata": {
        "colab": {
          "base_uri": "https://localhost:8080/"
        },
        "id": "knfDvjU8ljp7",
        "outputId": "06e6dd8e-01c4-409d-9bd4-074b583f76d4"
      },
      "execution_count": null,
      "outputs": [
        {
          "output_type": "stream",
          "name": "stdout",
          "text": [
            "[10]\n"
          ]
        }
      ]
    },
    {
      "cell_type": "code",
      "source": [
        "A = [[-3, -7],\n",
        "     [-10,6],\n",
        "     [0,-6],\n",
        "     [-1,-3]]\n",
        "\n",
        "B = [[-8,9],\n",
        "     [4,-2]]\n",
        "\n",
        "result = [[0, 0],\n",
        "          [0,0],\n",
        "          [0,0],\n",
        "          [0,0]]\n",
        "\n",
        "for u in range(len(A)):\n",
        " for o in range(len(B[0])):\n",
        "  for p in range(len(B)):\n",
        "   result[u][o] += A[u][p] * B[p][o]\n",
        "for d in result:\n",
        " print(d)"
      ],
      "metadata": {
        "colab": {
          "base_uri": "https://localhost:8080/"
        },
        "id": "8tC3weq3puXi",
        "outputId": "ef15d50f-162d-443e-9318-ecefa4c4e2e5"
      },
      "execution_count": null,
      "outputs": [
        {
          "output_type": "stream",
          "name": "stdout",
          "text": [
            "[-4, -13]\n",
            "[104, -102]\n",
            "[-24, 12]\n",
            "[-4, -3]\n"
          ]
        }
      ]
    }
  ]
}